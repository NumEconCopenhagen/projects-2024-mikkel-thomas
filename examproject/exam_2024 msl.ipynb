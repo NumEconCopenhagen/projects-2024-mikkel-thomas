{
 "cells": [
  {
   "cell_type": "markdown",
   "metadata": {},
   "source": [
    "**Table of contents**<a id='toc0_'></a>    \n",
    "- 1. [Problem 1: Production economy and CO2 taxation](#toc1_)    \n",
    "- 2. [Problem 2: Career choice model](#toc2_)    \n",
    "- 3. [Problem 3: Barycentric interpolation](#toc3_)    \n",
    "\n",
    "<!-- vscode-jupyter-toc-config\n",
    "\tnumbering=true\n",
    "\tanchor=true\n",
    "\tflat=false\n",
    "\tminLevel=2\n",
    "\tmaxLevel=6\n",
    "\t/vscode-jupyter-toc-config -->\n",
    "<!-- THIS CELL WILL BE REPLACED ON TOC UPDATE. DO NOT WRITE YOUR TEXT IN THIS CELL -->"
   ]
  },
  {
   "cell_type": "code",
   "execution_count": 182,
   "metadata": {},
   "outputs": [],
   "source": [
    "# Write your code here\n",
    "import numpy as np\n",
    "from types import SimpleNamespace\n",
    "from scipy import optimize"
   ]
  },
  {
   "cell_type": "markdown",
   "metadata": {},
   "source": [
    "## 1. <a id='toc1_'></a>[Problem 1: Production economy and CO2 taxation](#toc0_)"
   ]
  },
  {
   "cell_type": "markdown",
   "metadata": {},
   "source": [
    "Consider a production economy with two firms indexed by $j \\in \\{1,2\\}$. Each produce its own good. They solve\n",
    "\n",
    "$$\n",
    "\\begin{align*}\n",
    "\\max_{y_{j}}\\pi_{j}&=p_{j}y_{j}-w_{j}\\ell_{j}\\\\\\text{s.t.}\\;&y_{j}=A\\ell_{j}^{\\gamma}.\n",
    "\\end{align*}\n",
    "$$\n",
    "\n",
    "Optimal firm behavior is\n",
    "\n",
    "$$\n",
    "\\begin{align*}\n",
    "\\ell_{j}^{\\star}(w,p_{j})&=\\left(\\frac{p_{j}A\\gamma}{w}\\right)^{\\frac{1}{1-\\gamma}} \\\\\n",
    "y_{j}^{\\star}(w,p_{j})&=A\\left(\\ell_{j}^{\\star}(w,p_{j})\\right)^{\\gamma}\n",
    "\\end{align*}\n",
    "$$\n",
    "\n",
    "The implied profits are\n",
    "\n",
    "$$\n",
    "\\pi_{j}^*(w,p_{j})=\\frac{1-\\gamma}{\\gamma}w\\cdot\\left(\\frac{p_{j}A\\gamma}{w}\\right)^{\\frac{1}{1-\\gamma}}\n",
    "$$\n",
    "\n",
    "A single consumer supplies labor, and consumes the goods the firms produce. She also recieves the implied profits of the firm.<br>\n",
    "She solves:\n",
    "\n",
    "$$\n",
    "\\begin{align*}\n",
    "U(p_1,p_2,w,\\tau,T) = \\max_{c_{1},c_{2},\\ell} & \\log(c_{1}^{\\alpha}c_{2}^{1-\\alpha})-\\nu\\frac{\\ell^{1+\\epsilon}}{1+\\epsilon} \\\\\n",
    "\\text{s.t.}\\,\\,\\,&p_{1}c_{1}+(p_{2}+\\tau)c_{2}=w\\ell+T+\\pi_{1}^*(w,p_{1})+\\pi_{2}^*(w,p_{2})\n",
    "\\end{align*}\n",
    "$$\n",
    "\n",
    "where $\\tau$ is a tax and $T$ is lump-sum transfer. <br>\n",
    "For a given $\\ell$, it can be shown that optimal behavior is\n",
    "\n",
    "$$\n",
    "\\begin{align*}\n",
    "c_{1}(\\ell)&=\\alpha\\frac{w\\ell+T+\\pi_{1}^*(w,p_{1})+\\pi_{2}^*(w,p_{2})}{p_{1}} \\\\\n",
    "c_{2}(\\ell)&=(1-\\alpha)\\frac{w\\ell+T+\\pi_{1}^*(w,p_{1})+\\pi_{2}^*(w,p_{2})}{p_{2}+\\tau} \\\\\n",
    "\\end{align*}\n",
    "$$\n",
    "Such that optimal behavior is:\n",
    "$$\n",
    "\\ell^* = \\underset{\\ell}{\\arg\\max} \\log(\\left(c_{1}(\\ell)\\right)^{\\alpha}\\cdot \\left(c_{2}(\\ell)\\right)^{1-\\alpha})-\\nu\\frac{\\ell^{1+\\epsilon}}{1+\\epsilon} \n",
    "$$\n",
    "With optimal consumption:\n",
    "$$\n",
    "\\begin{align*}\n",
    "c_1^*=c_{1}(\\ell^*) \\\\\n",
    "c_2^*=c_{2}(\\ell^*)\\\\\n",
    "\\end{align*}\n",
    "$$\n",
    "\n",
    "\n",
    "The government chooses $\\tau$ and balances its budget so $T=\\tau c_2^*$. We initially set $\\tau,T=0$.\n",
    "\n",
    "Market clearing requires:\n",
    "\n",
    "1. Labor market: $\\ell^* = \\ell_1^* + \\ell_2^*$\n",
    "1. Good market 1: $c_1^* = y_1^*$\n",
    "1. Good market 2: $c_2^* = y_2^*$\n"
   ]
  },
  {
   "cell_type": "markdown",
   "metadata": {},
   "source": [
    "**Question 1:** Check market clearing conditions for $p_1$ in `linspace(0.1,2.0,10)` and $p_2$ in `linspace(0.1,2.0,10)`. We choose $w=1$ as numeraire."
   ]
  },
  {
   "cell_type": "code",
   "execution_count": 183,
   "metadata": {},
   "outputs": [],
   "source": [
    "par = SimpleNamespace()\n",
    "\n",
    "# firms\n",
    "par.A = 1.0\n",
    "par.gamma = 0.5\n",
    "\n",
    "# households\n",
    "par.alpha = 0.3\n",
    "par.nu = 1.0\n",
    "par.epsilon = 2.0\n",
    "\n",
    "# government\n",
    "par.tau = 0.0\n",
    "par.T = 0.0\n",
    "\n",
    "# Question 3\n",
    "par.kappa = 0.1\n",
    "\n",
    "# Numeraire\n",
    "w = 1"
   ]
  },
  {
   "cell_type": "code",
   "execution_count": 184,
   "metadata": {},
   "outputs": [],
   "source": [
    "p1_range = np.linspace(0.1, 2, 10)\n",
    "p2_range = np.linspace(0.1, 2, 10)\n",
    "\n",
    "def profits(p, w, par):\n",
    "    \n",
    "    # a. solve\n",
    "    y = lambda l: par.A*l**par.gamma\n",
    "    obj = lambda l: -(p*y(l) - w*l)\n",
    "    x0 = [0.5]\n",
    "    res = optimize.minimize(obj,x0, bounds=((0,None),), method='L-BFGS-B')\n",
    "\n",
    "    # b. output\n",
    "    l_star = (res.x[0])**(1/(1-par.gamma))\n",
    "    y_star = par.A*y(l_star)**(par.gamma)\n",
    "    Pi = (1-par.gamma)/(par.gamma)*w*(p*par.A*par.gamma/w)**(1/(1-par.gamma))\n",
    "\n",
    "    return Pi, y_star, l_star"
   ]
  },
  {
   "cell_type": "markdown",
   "metadata": {},
   "source": [
    "**Small test**"
   ]
  },
  {
   "cell_type": "code",
   "execution_count": 185,
   "metadata": {},
   "outputs": [
    {
     "name": "stdout",
     "output_type": "stream",
     "text": [
      "p = 0.10, pi = 0.00, y = 0.05, l = 0.00\n",
      "p = 0.31, pi = 0.02, y = 0.16, l = 0.00\n",
      "p = 0.52, pi = 0.07, y = 0.26, l = 0.00\n",
      "p = 0.73, pi = 0.13, y = 0.37, l = 0.02\n",
      "p = 0.94, pi = 0.22, y = 0.47, l = 0.05\n",
      "p = 1.16, pi = 0.33, y = 0.58, l = 0.11\n",
      "p = 1.37, pi = 0.47, y = 0.68, l = 0.22\n",
      "p = 1.58, pi = 0.62, y = 0.79, l = 0.39\n",
      "p = 1.79, pi = 0.80, y = 0.89, l = 0.64\n",
      "p = 2.00, pi = 1.00, y = 1.00, l = 1.00\n"
     ]
    }
   ],
   "source": [
    "w = 1\n",
    "for p in p1_range:\n",
    "    pi, y, l = profits(p, w, par)\n",
    "    print(f'p = {p:.2f}, pi = {pi:.2f}, y = {y:.2f}, l = {l:.2f}')"
   ]
  },
  {
   "cell_type": "code",
   "execution_count": 191,
   "metadata": {},
   "outputs": [],
   "source": [
    "def utility(c1,c2,l,par):\n",
    "    return np.log(c1**par.alpha * c2**(1-par.alpha)) - par.nu*l**(1+par.epsilon)/(1+par.epsilon)\n",
    "\n",
    "def consumer(p,w,pi,par):\n",
    "    # a. solve\n",
    "    obj = lambda l: -utility(par.alpha*(w*l+par.T+pi)/p,(1-par.alpha)*(w*l+par.T+pi)/(p+par.tau),l,par)\n",
    "    res = optimize.minimize_scalar(obj, bounds=(0,1), method='bounded')\n",
    "\n",
    "    # b. output\n",
    "    l_star = res.x\n",
    "    c1_star = par.alpha*(w*l_star+par.T+pi)/p\n",
    "    c2_star = (1-par.alpha)*(w*l_star+par.T+pi)/(p+par.tau)\n",
    "\n",
    "    return c1_star, c2_star, l_star"
   ]
  },
  {
   "cell_type": "markdown",
   "metadata": {},
   "source": [
    "**Small test**"
   ]
  },
  {
   "cell_type": "code",
   "execution_count": 193,
   "metadata": {},
   "outputs": [
    {
     "name": "stdout",
     "output_type": "stream",
     "text": [
      "p = 0.10, c1 = 4.07, c2 = 9.51, l = 0.86\n",
      "p = 0.31, c1 = 1.31, c2 = 3.06, l = 0.86\n",
      "p = 0.52, c1 = 0.78, c2 = 1.82, l = 0.86\n",
      "p = 0.73, c1 = 0.56, c2 = 1.30, l = 0.86\n",
      "p = 0.94, c1 = 0.43, c2 = 1.01, l = 0.86\n",
      "p = 1.16, c1 = 0.35, c2 = 0.82, l = 0.86\n",
      "p = 1.37, c1 = 0.30, c2 = 0.70, l = 0.86\n",
      "p = 1.58, c1 = 0.26, c2 = 0.60, l = 0.86\n",
      "p = 1.79, c1 = 0.23, c2 = 0.53, l = 0.86\n",
      "p = 2.00, c1 = 0.20, c2 = 0.48, l = 0.86\n"
     ]
    }
   ],
   "source": [
    "w = 1\n",
    "pi = 0.5\n",
    "for p in p1_range:\n",
    "    c1,c2,l = consumer(p,w,pi,par)\n",
    "    print(f'p = {p:.2f}, c1 = {c1:.2f}, c2 = {c2:.2f}, l = {l:.2f}')"
   ]
  },
  {
   "cell_type": "markdown",
   "metadata": {},
   "source": [
    "**Question 2:** Find the equilibrium prices $p_1$ and $p_2$.<br>\n",
    "*Hint: you can use Walras' law to only check 2 of the market clearings*"
   ]
  },
  {
   "cell_type": "code",
   "execution_count": 275,
   "metadata": {},
   "outputs": [],
   "source": [
    "def equilibrium(p1,p2,w,par):\n",
    "    # a. labor demand\n",
    "    pi1, y1, l1 = profits(p1,w,par)\n",
    "    pi2, y2, l2 = profits(p2,w,par)\n",
    "    L = l1 + l2\n",
    "\n",
    "    # b. labor supply\n",
    "    c1, c2, L = consumer(p1,w,pi1,par)\n",
    "    C = c1 + c2\n",
    "\n",
    "    # c. market clearing\n",
    "    Labor_market_clearing = L - l1 + l2\n",
    "    Goods_market_clearing_1 = y1 - c1\n",
    "    Goods_market_clearing_2 = y2 - c2\n",
    "\n",
    "    return Labor_market_clearing, Goods_market_clearing_1, Goods_market_clearing_2"
   ]
  },
  {
   "cell_type": "code",
   "execution_count": 279,
   "metadata": {},
   "outputs": [
    {
     "name": "stdout",
     "output_type": "stream",
     "text": [
      "p1 = 0.10, p2 = 0.10 ,LMC: 1.00, GM1C: -2.96 , GM2C: -6.96\n",
      "p1 = 0.10, p2 = 0.31 ,LMC: 1.00, GM1C: -2.96 , GM2C: -6.86\n",
      "p1 = 0.10, p2 = 0.52 ,LMC: 1.00, GM1C: -2.96 , GM2C: -6.75\n",
      "p1 = 0.10, p2 = 0.73 ,LMC: 1.02, GM1C: -2.96 , GM2C: -6.65\n",
      "p1 = 0.10, p2 = 0.94 ,LMC: 1.05, GM1C: -2.96 , GM2C: -6.54\n",
      "p1 = 0.10, p2 = 1.16 ,LMC: 1.11, GM1C: -2.96 , GM2C: -6.43\n",
      "p1 = 0.10, p2 = 1.37 ,LMC: 1.22, GM1C: -2.96 , GM2C: -6.33\n",
      "p1 = 0.10, p2 = 1.58 ,LMC: 1.39, GM1C: -2.96 , GM2C: -6.22\n",
      "p1 = 0.10, p2 = 1.79 ,LMC: 1.64, GM1C: -2.96 , GM2C: -6.12\n",
      "p1 = 0.10, p2 = 2.00 ,LMC: 2.00, GM1C: -2.96 , GM2C: -6.01\n",
      "p1 = 0.31, p2 = 0.10 ,LMC: 0.99, GM1C: -0.82 , GM2C: -2.24\n",
      "p1 = 0.31, p2 = 0.31 ,LMC: 0.99, GM1C: -0.82 , GM2C: -2.13\n",
      "p1 = 0.31, p2 = 0.52 ,LMC: 1.00, GM1C: -0.82 , GM2C: -2.03\n",
      "p1 = 0.31, p2 = 0.73 ,LMC: 1.01, GM1C: -0.82 , GM2C: -1.92\n",
      "p1 = 0.31, p2 = 0.94 ,LMC: 1.04, GM1C: -0.82 , GM2C: -1.81\n",
      "p1 = 0.31, p2 = 1.16 ,LMC: 1.10, GM1C: -0.82 , GM2C: -1.71\n",
      "p1 = 0.31, p2 = 1.37 ,LMC: 1.21, GM1C: -0.82 , GM2C: -1.60\n",
      "p1 = 0.31, p2 = 1.58 ,LMC: 1.38, GM1C: -0.82 , GM2C: -1.50\n",
      "p1 = 0.31, p2 = 1.79 ,LMC: 1.63, GM1C: -0.82 , GM2C: -1.39\n",
      "p1 = 0.31, p2 = 2.00 ,LMC: 1.99, GM1C: -0.82 , GM2C: -1.29\n",
      "p1 = 0.52, p2 = 0.10 ,LMC: 0.97, GM1C: -0.34 , GM2C: -1.35\n",
      "p1 = 0.52, p2 = 0.31 ,LMC: 0.97, GM1C: -0.34 , GM2C: -1.25\n",
      "p1 = 0.52, p2 = 0.52 ,LMC: 0.98, GM1C: -0.34 , GM2C: -1.14\n",
      "p1 = 0.52, p2 = 0.73 ,LMC: 0.99, GM1C: -0.34 , GM2C: -1.04\n",
      "p1 = 0.52, p2 = 0.94 ,LMC: 1.02, GM1C: -0.34 , GM2C: -0.93\n",
      "p1 = 0.52, p2 = 1.16 ,LMC: 1.08, GM1C: -0.34 , GM2C: -0.82\n",
      "p1 = 0.52, p2 = 1.37 ,LMC: 1.19, GM1C: -0.34 , GM2C: -0.72\n",
      "p1 = 0.52, p2 = 1.58 ,LMC: 1.36, GM1C: -0.34 , GM2C: -0.61\n",
      "p1 = 0.52, p2 = 1.79 ,LMC: 1.61, GM1C: -0.34 , GM2C: -0.51\n",
      "p1 = 0.52, p2 = 2.00 ,LMC: 1.97, GM1C: -0.34 , GM2C: -0.40\n",
      "p1 = 0.73, p2 = 0.10 ,LMC: 0.94, GM1C: -0.08 , GM2C: -0.99\n",
      "p1 = 0.73, p2 = 0.31 ,LMC: 0.94, GM1C: -0.08 , GM2C: -0.89\n",
      "p1 = 0.73, p2 = 0.52 ,LMC: 0.94, GM1C: -0.08 , GM2C: -0.78\n",
      "p1 = 0.73, p2 = 0.73 ,LMC: 0.96, GM1C: -0.08 , GM2C: -0.68\n",
      "p1 = 0.73, p2 = 0.94 ,LMC: 0.99, GM1C: -0.08 , GM2C: -0.57\n",
      "p1 = 0.73, p2 = 1.16 ,LMC: 1.05, GM1C: -0.08 , GM2C: -0.46\n",
      "p1 = 0.73, p2 = 1.37 ,LMC: 1.16, GM1C: -0.08 , GM2C: -0.36\n",
      "p1 = 0.73, p2 = 1.58 ,LMC: 1.33, GM1C: -0.08 , GM2C: -0.25\n",
      "p1 = 0.73, p2 = 1.79 ,LMC: 1.58, GM1C: -0.08 , GM2C: -0.15\n",
      "p1 = 0.73, p2 = 2.00 ,LMC: 1.94, GM1C: -0.08 , GM2C: -0.04\n",
      "p1 = 0.94, p2 = 0.10 ,LMC: 0.88, GM1C: 0.11 , GM2C: -0.81\n",
      "p1 = 0.94, p2 = 0.31 ,LMC: 0.88, GM1C: 0.11 , GM2C: -0.70\n",
      "p1 = 0.94, p2 = 0.52 ,LMC: 0.89, GM1C: 0.11 , GM2C: -0.59\n",
      "p1 = 0.94, p2 = 0.73 ,LMC: 0.90, GM1C: 0.11 , GM2C: -0.49\n",
      "p1 = 0.94, p2 = 0.94 ,LMC: 0.93, GM1C: 0.11 , GM2C: -0.38\n",
      "p1 = 0.94, p2 = 1.16 ,LMC: 0.99, GM1C: 0.11 , GM2C: -0.28\n",
      "p1 = 0.94, p2 = 1.37 ,LMC: 1.10, GM1C: 0.11 , GM2C: -0.17\n",
      "p1 = 0.94, p2 = 1.58 ,LMC: 1.27, GM1C: 0.11 , GM2C: -0.07\n",
      "p1 = 0.94, p2 = 1.79 ,LMC: 1.52, GM1C: 0.11 , GM2C: 0.04\n",
      "p1 = 0.94, p2 = 2.00 ,LMC: 1.88, GM1C: 0.11 , GM2C: 0.14\n",
      "p1 = 1.16, p2 = 0.10 ,LMC: 0.79, GM1C: 0.26 , GM2C: -0.70\n",
      "p1 = 1.16, p2 = 0.31 ,LMC: 0.79, GM1C: 0.26 , GM2C: -0.59\n",
      "p1 = 1.16, p2 = 0.52 ,LMC: 0.79, GM1C: 0.26 , GM2C: -0.49\n",
      "p1 = 1.16, p2 = 0.73 ,LMC: 0.81, GM1C: 0.26 , GM2C: -0.38\n",
      "p1 = 1.16, p2 = 0.94 ,LMC: 0.84, GM1C: 0.26 , GM2C: -0.28\n",
      "p1 = 1.16, p2 = 1.16 ,LMC: 0.90, GM1C: 0.26 , GM2C: -0.17\n",
      "p1 = 1.16, p2 = 1.37 ,LMC: 1.01, GM1C: 0.26 , GM2C: -0.06\n",
      "p1 = 1.16, p2 = 1.58 ,LMC: 1.18, GM1C: 0.26 , GM2C: 0.04\n",
      "p1 = 1.16, p2 = 1.79 ,LMC: 1.43, GM1C: 0.26 , GM2C: 0.15\n",
      "p1 = 1.16, p2 = 2.00 ,LMC: 1.79, GM1C: 0.26 , GM2C: 0.25\n",
      "p1 = 1.37, p2 = 0.10 ,LMC: 0.65, GM1C: 0.39 , GM2C: -0.63\n",
      "p1 = 1.37, p2 = 0.31 ,LMC: 0.65, GM1C: 0.39 , GM2C: -0.53\n",
      "p1 = 1.37, p2 = 0.52 ,LMC: 0.65, GM1C: 0.39 , GM2C: -0.42\n",
      "p1 = 1.37, p2 = 0.73 ,LMC: 0.67, GM1C: 0.39 , GM2C: -0.32\n",
      "p1 = 1.37, p2 = 0.94 ,LMC: 0.70, GM1C: 0.39 , GM2C: -0.21\n",
      "p1 = 1.37, p2 = 1.16 ,LMC: 0.76, GM1C: 0.39 , GM2C: -0.11\n",
      "p1 = 1.37, p2 = 1.37 ,LMC: 0.87, GM1C: 0.39 , GM2C: 0.00\n",
      "p1 = 1.37, p2 = 1.58 ,LMC: 1.04, GM1C: 0.39 , GM2C: 0.11\n",
      "p1 = 1.37, p2 = 1.79 ,LMC: 1.29, GM1C: 0.39 , GM2C: 0.21\n",
      "p1 = 1.37, p2 = 2.00 ,LMC: 1.65, GM1C: 0.39 , GM2C: 0.32\n",
      "p1 = 1.58, p2 = 0.10 ,LMC: 0.44, GM1C: 0.51 , GM2C: -0.59\n",
      "p1 = 1.58, p2 = 0.31 ,LMC: 0.44, GM1C: 0.51 , GM2C: -0.49\n",
      "p1 = 1.58, p2 = 0.52 ,LMC: 0.45, GM1C: 0.51 , GM2C: -0.38\n",
      "p1 = 1.58, p2 = 0.73 ,LMC: 0.46, GM1C: 0.51 , GM2C: -0.28\n",
      "p1 = 1.58, p2 = 0.94 ,LMC: 0.49, GM1C: 0.51 , GM2C: -0.17\n",
      "p1 = 1.58, p2 = 1.16 ,LMC: 0.55, GM1C: 0.51 , GM2C: -0.07\n",
      "p1 = 1.58, p2 = 1.37 ,LMC: 0.66, GM1C: 0.51 , GM2C: 0.04\n",
      "p1 = 1.58, p2 = 1.58 ,LMC: 0.83, GM1C: 0.51 , GM2C: 0.14\n",
      "p1 = 1.58, p2 = 1.79 ,LMC: 1.08, GM1C: 0.51 , GM2C: 0.25\n",
      "p1 = 1.58, p2 = 2.00 ,LMC: 1.44, GM1C: 0.51 , GM2C: 0.36\n",
      "p1 = 1.79, p2 = 0.10 ,LMC: 0.15, GM1C: 0.63 , GM2C: -0.57\n",
      "p1 = 1.79, p2 = 0.31 ,LMC: 0.15, GM1C: 0.63 , GM2C: -0.47\n",
      "p1 = 1.79, p2 = 0.52 ,LMC: 0.16, GM1C: 0.63 , GM2C: -0.36\n",
      "p1 = 1.79, p2 = 0.73 ,LMC: 0.17, GM1C: 0.63 , GM2C: -0.26\n",
      "p1 = 1.79, p2 = 0.94 ,LMC: 0.20, GM1C: 0.63 , GM2C: -0.15\n",
      "p1 = 1.79, p2 = 1.16 ,LMC: 0.26, GM1C: 0.63 , GM2C: -0.05\n",
      "p1 = 1.79, p2 = 1.37 ,LMC: 0.37, GM1C: 0.63 , GM2C: 0.06\n",
      "p1 = 1.79, p2 = 1.58 ,LMC: 0.54, GM1C: 0.63 , GM2C: 0.17\n",
      "p1 = 1.79, p2 = 1.79 ,LMC: 0.79, GM1C: 0.63 , GM2C: 0.27\n",
      "p1 = 1.79, p2 = 2.00 ,LMC: 1.15, GM1C: 0.63 , GM2C: 0.38\n",
      "p1 = 2.00, p2 = 0.10 ,LMC: -0.25, GM1C: 0.74 , GM2C: -0.56\n",
      "p1 = 2.00, p2 = 0.31 ,LMC: -0.24, GM1C: 0.74 , GM2C: -0.46\n",
      "p1 = 2.00, p2 = 0.52 ,LMC: -0.24, GM1C: 0.74 , GM2C: -0.35\n",
      "p1 = 2.00, p2 = 0.73 ,LMC: -0.23, GM1C: 0.74 , GM2C: -0.25\n",
      "p1 = 2.00, p2 = 0.94 ,LMC: -0.20, GM1C: 0.74 , GM2C: -0.14\n",
      "p1 = 2.00, p2 = 1.16 ,LMC: -0.13, GM1C: 0.74 , GM2C: -0.04\n",
      "p1 = 2.00, p2 = 1.37 ,LMC: -0.03, GM1C: 0.74 , GM2C: 0.07\n",
      "p1 = 2.00, p2 = 1.58 ,LMC: 0.14, GM1C: 0.74 , GM2C: 0.17\n",
      "p1 = 2.00, p2 = 1.79 ,LMC: 0.39, GM1C: 0.74 , GM2C: 0.28\n",
      "p1 = 2.00, p2 = 2.00 ,LMC: 0.75, GM1C: 0.74 , GM2C: 0.39\n"
     ]
    }
   ],
   "source": [
    "w = 1\n",
    "for p1 in p1_range:\n",
    "    for p2 in p2_range:\n",
    "        Labor_market_clearing, Goods_market_clearing_1, Goods_market_clearing_2 = equilibrium(p1,p2,w,par)\n",
    "        print(f'p1 = {p1:.2f}, p2 = {p2:.2f} ,LMC: {Labor_market_clearing:.2f}, GM1C: {Goods_market_clearing_1:.2f} , GM2C: {Goods_market_clearing_2:.2f}')"
   ]
  },
  {
   "cell_type": "markdown",
   "metadata": {},
   "source": [
    "Assume the government care about the social welfare function:\n",
    "\n",
    "$$\n",
    "SWF = U - \\kappa y_2^*\n",
    "$$"
   ]
  },
  {
   "cell_type": "markdown",
   "metadata": {},
   "source": [
    "Here $\\kappa$ measures the social cost of carbon emitted by the production of $y_2$ in equilibrium."
   ]
  },
  {
   "cell_type": "markdown",
   "metadata": {},
   "source": [
    "**Question 3:** What values of $\\tau$ and (implied) $T$ should the government choose to maximize $SWF$?"
   ]
  },
  {
   "cell_type": "code",
   "execution_count": null,
   "metadata": {},
   "outputs": [
    {
     "name": "stdout",
     "output_type": "stream",
     "text": [
      "Optimal tau: 0.1\n",
      "Implied optimal T: 0.09000000000000001\n"
     ]
    }
   ],
   "source": [
    "# write your answer here\n",
    "# Calculate the social welfare function for each combination of tau and T\n",
    "swf_values = []\n",
    "for tau in tau_range:\n",
    "    for T in T_range:\n",
    "        # Calculate the SWF for the current values of tau and T\n",
    "        swf = calculate_swf(tau, T)\n",
    "        \n",
    "        # Calculate the implied value of T\n",
    "        implied_T = (1 - tau) * T\n",
    "        \n",
    "        # Calculate the SWF with the social cost of carbon\n",
    "        swf_with_cost = swf - par.kappa * implied_T\n",
    "        \n",
    "        # Append the SWF value to the list\n",
    "        swf_values.append((swf_with_cost, tau, implied_T))\n",
    "        \n",
    "# Find the maximum SWF value and corresponding values of tau and implied T\n",
    "max_swf_with_cost, opt_tau, opt_implied_T = max(swf_values)\n",
    "\n",
    "# Print the optimal values of tau and implied T\n",
    "print(\"Optimal tau:\", opt_tau)\n",
    "print(\"Implied optimal T:\", opt_implied_T)"
   ]
  },
  {
   "cell_type": "markdown",
   "metadata": {},
   "source": [
    "## 2. <a id='toc2_'></a>[Problem 2: Career choice model](#toc0_)"
   ]
  },
  {
   "cell_type": "markdown",
   "metadata": {},
   "source": [
    "Consider a graduate $i$ making a choice between entering $J$ different career tracks. <br>\n",
    "Entering career $j$ yields utility $u^k_{ij}$. This value is unknown to the graduate ex ante, but will ex post be: <br>\n",
    "$$\n",
    "    u_{i,j}^k = v_{j} + \\epsilon_{i,j}^k\n",
    "$$\n",
    "\n",
    "They know that $\\epsilon^k_{i,j}\\sim \\mathcal{N}(0,\\sigma^2)$, but they do not observe $\\epsilon^k_{i,j}$ before making their career choice. <br>"
   ]
  },
  {
   "cell_type": "markdown",
   "metadata": {},
   "source": [
    "Consider the concrete case of $J=3$ with:\n",
    "$$\n",
    "\\begin{align*}\n",
    "    v_{1} &= 1 \\\\\n",
    "    v_{2} &= 2 \\\\\n",
    "    v_{3} &= 3\n",
    "\\end{align*}\n",
    "$$"
   ]
  },
  {
   "cell_type": "markdown",
   "metadata": {},
   "source": [
    "If the graduates know the values of $v_j$ and the distribution of $\\epsilon_{i,j}^k$, they can calculate the expected utility of each career track using simulation: <br>\n",
    "$$\n",
    "    \\mathbb{E}\\left[ u^k_{i,j}\\vert v_j \\right] \\approx v_j + \\frac{1}{K}\\sum_{k=1}^K \\epsilon_{i,j}^k\n",
    "$$"
   ]
  },
  {
   "cell_type": "code",
   "execution_count": null,
   "metadata": {},
   "outputs": [],
   "source": [
    "par = SimpleNamespace()\n",
    "par.J = 3\n",
    "par.N = 10\n",
    "par.K = 10000\n",
    "\n",
    "par.F = np.arange(1,par.N+1)\n",
    "par.sigma = 2\n",
    "\n",
    "par.v = np.array([1,2,3])\n",
    "par.c = 1"
   ]
  },
  {
   "cell_type": "markdown",
   "metadata": {},
   "source": [
    "**Question 1:** Simulate and calculate expected utility and the average realised utility for $K=10000$ draws, for each career choice $j$.\n"
   ]
  },
  {
   "cell_type": "code",
   "execution_count": null,
   "metadata": {},
   "outputs": [],
   "source": [
    "# write your answer here"
   ]
  },
  {
   "cell_type": "markdown",
   "metadata": {},
   "source": [
    "Now consider a new scenario: Imagine that the graduate does not know $v_j$. The *only* prior information they have on the value of each job, comes from their $F_{i}$ friends that work in each career $j$. After talking with them, they know the average utility of their friends (which includes their friends' noise term), giving them the prior expecation: <br>\n",
    "$$\n",
    "\\tilde{u}^k_{i,j}\\left( F_{i}\\right) = \\frac{1}{F_{i}}\\sum_{f=1}^{F_{i}} \\left(v_{j} + \\epsilon^k_{f,j}\\right), \\; \\epsilon^k_{f,j}\\sim \\mathcal{N}(0,\\sigma^2)\n",
    "$$\n",
    "For ease of notation consider that each graduate have $F_{i}=i$ friends in each career. <br>"
   ]
  },
  {
   "cell_type": "markdown",
   "metadata": {},
   "source": [
    "For $K$ times do the following: <br>\n",
    "1. For each person $i$ draw $J\\cdot F_i$ values of $\\epsilon_{f,j}^{k}$, and calculate the prior expected utility of each career track, $\\tilde{u}^k_{i,j}\\left( F_{i}\\right)$. <br>\n",
    "Also draw their own $J$ noise terms, $\\epsilon_{i,j}^k$\n",
    "1. Each person $i$ chooses the career track with the highest expected utility: $$j_i^{k*}= \\arg\\max_{j\\in{1,2\\dots,J}}\\left\\{ \\tilde{u}^k_{i,j}\\left( F_{i}\\right)\\right\\} $$\n",
    "1. Store the chosen careers: $j_i^{k*}$, the prior expectation of the value of their chosen career: $\\tilde{u}^k_{i,j=j_i^{k*}}\\left( F_{i}\\right)$, and the realized value of their chosen career track: $u^k_{i,j=j_i^{k*}}=v_{j=j_i^{k*}}+\\epsilon_{i,j=j_i^{k*}}^k$."
   ]
  },
  {
   "cell_type": "markdown",
   "metadata": {},
   "source": [
    "Chosen values will be: <br>\n",
    "$i\\in\\left\\{1,2\\dots,N\\right\\}, N=10$ <br>\n",
    "$F_i = i$<br>\n",
    "So there are 10 graduates. The first has 1 friend in each career, the second has 2 friends, ... the tenth has 10 friends."
   ]
  },
  {
   "cell_type": "markdown",
   "metadata": {},
   "source": [
    "**Question 2:** Simulate and visualize: For each type of graduate, $i$, the share of graduates choosing each career, the average subjective expected utility of the graduates, and the average ex post realized utility given their choice. <br>\n",
    "That is, calculate and visualize: <br>\n",
    "$$\n",
    "\\begin{align*}\n",
    "    \\frac{1}{K} \\sum_{k=1}^{K} \\mathbb{I}\\left\\{ j=j_i^{k*} \\right\\}  \\;\\forall j\\in\\left\\{1,2,\\dots,J\\right\\}\n",
    "\\end{align*}\n",
    "$$\n",
    "$$\n",
    "\\begin{align*}\n",
    "    \\frac{1}{K} \\sum_{k=1}^{K} \\tilde{u}^k_{ij=j_i^{k*}}\\left( F_{i}\\right)\n",
    "\\end{align*}\n",
    "$$\n",
    "And \n",
    "$$\n",
    "\\begin{align*}\n",
    "    \\frac{1}{K} \\sum_{k=1}^{K} u^k_{ij=j_i^{k*}} \n",
    "\\end{align*}\n",
    "$$\n",
    "For each graduate $i$."
   ]
  },
  {
   "cell_type": "code",
   "execution_count": null,
   "metadata": {},
   "outputs": [],
   "source": [
    "# Write your answer here "
   ]
  },
  {
   "cell_type": "markdown",
   "metadata": {},
   "source": [
    "After a year of working in their career, the graduates learn $u^k_{ij}$ for their chosen job $j_i^{k*}$ perfectly. <br>\n",
    "The can switch to one of the two remaining careers, for which they have the same prior as before, but it will now include a switching cost of $c$ which is known.\n",
    "Their new priors can be written as: \n",
    "$$\n",
    "\\tilde{u}^{k,2}_{ij}\\left( F_{i}\\right) = \\begin{cases}\n",
    "            \\tilde{u}^k_{ij}\\left( F_{i}\\right)-c & \\text{if } j \\neq j_i^{k*} \\\\\n",
    "            u_{ij=j_i^{k*}} & \\text{if } j = j_i^{k*}\n",
    "        \\end{cases}\n",
    "$$"
   ]
  },
  {
   "cell_type": "markdown",
   "metadata": {},
   "source": [
    "We will set $c=1$."
   ]
  },
  {
   "cell_type": "markdown",
   "metadata": {},
   "source": [
    "Their realized utility will be: <br>\n",
    "$$\n",
    "u^{k,2}_{ij}= \\begin{cases}\n",
    "            u_{ij}^k -c & \\text{if } j \\neq j_i^{k*} \\\\\n",
    "            u_{ij=j_i^{k*}} & \\text{if } j = j_i^{k*}\n",
    "        \\end{cases}\n",
    "$$"
   ]
  },
  {
   "cell_type": "markdown",
   "metadata": {},
   "source": [
    "**Question 3:** Following the same approach as in question 2, find the new optimal career choice for each $i$, $k$. Then for each $i$, calculate the average subjective expected utility from their new optimal career choice, and the ex post realized utility of that career. Also, for each $i$, calculate the share of graduates that chooses to switch careers, conditional on which career they chose in the first year. <br>"
   ]
  },
  {
   "cell_type": "code",
   "execution_count": null,
   "metadata": {},
   "outputs": [],
   "source": [
    "# write your answer here"
   ]
  },
  {
   "cell_type": "markdown",
   "metadata": {},
   "source": [
    "## 3. <a id='toc3_'></a>[Problem 3: Barycentric interpolation](#toc0_)"
   ]
  },
  {
   "cell_type": "markdown",
   "metadata": {},
   "source": [
    "**Problem:** We have a set of random points in the unit square,\n",
    "\n",
    "$$\n",
    "\\mathcal{X} = \\{(x_1,x_2)\\,|\\,x_1\\sim\\mathcal{U}(0,1),x_2\\sim\\mathcal{U}(0,1)\\}.\n",
    "$$\n",
    "\n",
    "For these points, we know the value of some function $f(x_1,x_2)$,\n",
    "\n",
    "$$\n",
    "\\mathcal{F} = \\{f(x_1,x_2) \\,|\\, (x_1,x_2) \\in \\mathcal{X}\\}.\n",
    "$$\n",
    "\n",
    "Now we want to approximate the value $f(y_1,y_2)$ for some  $y=(y_1,y_2)$, where $y_1\\sim\\mathcal{U}(0,1)$ and $y_2\\sim\\mathcal{U}(0,1)$.\n",
    "\n",
    "**Building block I**\n",
    "\n",
    "For an arbitrary triangle $ABC$ and a point $y$, define the so-called barycentric coordinates as:\n",
    "\n",
    "$$\n",
    "\\begin{align*}\n",
    "  r^{ABC}_1 &= \\frac{(B_2-C_2)(y_1-C_1) + (C_1-B_1)(y_2-C_2)}{(B_2-C_2)(A_1-C_1) + (C_1-B_1)(A_2-C_2)} \\\\\n",
    "  r^{ABC}_2 &= \\frac{(C_2-A_2)(y_1-C_1) + (A_1-C_1)(y_2-C_2)}{(B_2-C_2)(A_1-C_1) + (C_1-B_1)(A_2-C_2)} \\\\\n",
    "  r^{ABC}_3 &= 1 - r_1 - r_2.\n",
    "\\end{align*}\n",
    "$$\n",
    "\n",
    "If $r^{ABC}_1 \\in [0,1]$, $r^{ABC}_2 \\in [0,1]$, and $r^{ABC}_3 \\in [0,1]$, then the point is inside the triangle.\n",
    "\n",
    "We always have $y = r^{ABC}_1 A + r^{ABC}_2 B + r^{ABC}_3 C$.\n",
    "\n",
    "**Building block II**\n",
    "\n",
    "Define the following points:\n",
    "\n",
    "$$\n",
    "\\begin{align*}\n",
    "A&=\\arg\\min_{(x_{1},x_{2})\\in\\mathcal{X}}\\sqrt{\\left(x_{1}-y_{1}\\right)^{2}+\\left(x_{2}-y_{2}\\right)^{2}}\\text{ s.t. }x_{1}>y_{1}\\text{ and }x_{2}>y_{2}\\\\\n",
    "B&=\\arg\\min_{(x_{1},x_{2})\\in\\mathcal{X}}\\sqrt{\\left(x_{1}-y_{1}\\right)^{2}+\\left(x_{2}-y_{2}\\right)^{2}}\\text{ s.t. }x_{1}>y_{1}\\text{ and }x_{2}<y_{2}\\\\\n",
    "C&=\\arg\\min_{(x_{1},x_{2})\\in\\mathcal{X}}\\sqrt{\\left(x_{1}-y_{1}\\right)^{2}+\\left(x_{2}-y_{2}\\right)^{2}}\\text{ s.t. }x_{1}<y_{1}\\text{ and }x_{2}<y_{2}\\\\\n",
    "D&=\\arg\\min_{(x_{1},x_{2})\\in\\mathcal{X}}\\sqrt{\\left(x_{1}-y_{1}\\right)^{2}+\\left(x_{2}-y_{2}\\right)^{2}}\\text{ s.t. }x_{1}<y_{1}\\text{ and }x_{2}>y_{2}.\n",
    "\\end{align*}\n",
    "$$\n",
    "\n",
    "**Algorithm:**\n",
    "\n",
    "1. Compute $A$, $B$, $C$, and $D$. If not possible return `NaN`.\n",
    "1. If $y$ is inside the triangle $ABC$ return $r^{ABC}_1 f(A) + r^{ABC}_2 f(B) + r^{ABC}_3 f(C)$.\n",
    "1. If $y$ is inside the triangle $CDA$ return $r^{CDA}_1 f(C) + r^{CDA}_2 f(D) + r^{CDA}_3 f(A)$.\n",
    "1. Return `NaN`.\n",
    "\n"
   ]
  },
  {
   "cell_type": "markdown",
   "metadata": {},
   "source": [
    "**Sample:**"
   ]
  },
  {
   "cell_type": "code",
   "execution_count": null,
   "metadata": {},
   "outputs": [],
   "source": [
    "rng = np.random.default_rng(2024)\n",
    "\n",
    "X = rng.uniform(size=(50,2))\n",
    "y = rng.uniform(size=(2,))\n"
   ]
  },
  {
   "cell_type": "markdown",
   "metadata": {},
   "source": [
    "**Questions 1:** Find $A$, $B$, $C$ and $D$. Illustrate these together with $X$, $y$ and the triangles $ABC$ and $CDA$."
   ]
  },
  {
   "cell_type": "code",
   "execution_count": null,
   "metadata": {},
   "outputs": [],
   "source": [
    "# write your answer here"
   ]
  },
  {
   "cell_type": "markdown",
   "metadata": {},
   "source": [
    "**Question 2:** Compute the barycentric coordinates of the point $y$ with respect to the triangles $ABC$ and $CDA$. Which triangle is $y$ located inside?"
   ]
  },
  {
   "cell_type": "code",
   "execution_count": null,
   "metadata": {},
   "outputs": [],
   "source": [
    "# write your answer here"
   ]
  },
  {
   "cell_type": "markdown",
   "metadata": {},
   "source": [
    "Now consider the function:\n",
    "$$\n",
    "f(x_1,x_2) = x_1 \\cdot x_2\n",
    "$$"
   ]
  },
  {
   "cell_type": "code",
   "execution_count": null,
   "metadata": {},
   "outputs": [],
   "source": [
    "f = lambda x: x[0]*x[1]\n",
    "F = np.array([f(x) for x in X])"
   ]
  },
  {
   "cell_type": "markdown",
   "metadata": {},
   "source": [
    "**Question 3:** Compute the approximation of $f(y)$ using the full algorithm. Compare with the true value."
   ]
  },
  {
   "cell_type": "code",
   "execution_count": null,
   "metadata": {},
   "outputs": [],
   "source": [
    "# write your answer here"
   ]
  },
  {
   "cell_type": "markdown",
   "metadata": {},
   "source": [
    "**Question 4:** Repeat question 3 for all points in the set $Y$."
   ]
  },
  {
   "cell_type": "code",
   "execution_count": null,
   "metadata": {},
   "outputs": [],
   "source": [
    "Y = [(0.2,0.2),(0.8,0.2),(0.8,0.8),(0.8,0.2),(0.5,0.5)]"
   ]
  },
  {
   "cell_type": "code",
   "execution_count": null,
   "metadata": {},
   "outputs": [],
   "source": [
    "# write your answer here"
   ]
  }
 ],
 "metadata": {
  "kernelspec": {
   "display_name": "base",
   "language": "python",
   "name": "python3"
  },
  "language_info": {
   "codemirror_mode": {
    "name": "ipython",
    "version": 3
   },
   "file_extension": ".py",
   "mimetype": "text/x-python",
   "name": "python",
   "nbconvert_exporter": "python",
   "pygments_lexer": "ipython3",
   "version": "3.11.8"
  }
 },
 "nbformat": 4,
 "nbformat_minor": 2
}
