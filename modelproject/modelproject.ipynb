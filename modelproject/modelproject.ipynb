{
 "cells": [
  {
   "cell_type": "markdown",
   "metadata": {},
   "source": [
    "# Ramsey model with housing"
   ]
  },
  {
   "attachments": {},
   "cell_type": "markdown",
   "metadata": {},
   "source": [
    "> **Note the following:** \n",
    "> 1. This is *not* meant to be an example of an actual **model analysis project**, just an example of how to structure such a project.\n",
    "> 1. Remember the general advice on structuring and commenting your code\n",
    "> 1. The `modelproject.py` file includes a function which could be used multiple times in this notebook."
   ]
  },
  {
   "cell_type": "markdown",
   "metadata": {},
   "source": [
    "Imports and set magics:"
   ]
  },
  {
   "cell_type": "code",
   "execution_count": 27,
   "metadata": {},
   "outputs": [
    {
     "name": "stdout",
     "output_type": "stream",
     "text": [
      "The autoreload extension is already loaded. To reload it, use:\n",
      "  %reload_ext autoreload\n"
     ]
    }
   ],
   "source": [
    "import numpy as np\n",
    "from scipy import optimize\n",
    "import sympy as sm\n",
    "\n",
    "# autoreload modules when code is run\n",
    "%load_ext autoreload\n",
    "%autoreload 2\n",
    "\n",
    "# local modules\n",
    "import modelproject"
   ]
  },
  {
   "cell_type": "markdown",
   "metadata": {},
   "source": [
    "# Model description"
   ]
  },
  {
   "cell_type": "markdown",
   "metadata": {},
   "source": [
    "**Write out the model in equations here.** \n",
    "\n",
    "Make sure you explain well the purpose of the model and comment so that other students who may not have seen it before can follow.  "
   ]
  },
  {
   "cell_type": "markdown",
   "metadata": {},
   "source": [
    "In this model project, we extend the Ramsey model to include a housing market. In the first iteration, we solve the model assuming that housing supply is in fixed supply and that the housing stock does not depreciate over time. Most of the model is as described in the lecture notebook on the Ramsey model. Our changes to the mode are marked in <span style=\"color:red\"> *red*</span>."
   ]
  },
  {
   "cell_type": "markdown",
   "metadata": {},
   "source": [
    "**Time:** Discrete and indexed by $t\\in\\{0,1,\\dots\\}$."
   ]
  },
  {
   "cell_type": "markdown",
   "metadata": {},
   "source": [
    "**Demographics:** Single infinitely-lived household."
   ]
  },
  {
   "cell_type": "markdown",
   "metadata": {},
   "source": [
    "**Household:** Households choose non-durable consumption, $C_t$ and durable housing $H_t$ such as to maximize discount lifetime utility. Labor is supplied exogenously, $N_{t}=1$, and earns a wage $w_{t}$. The return on saving is $r_{t+1}$. Utility is CRRA and given by: \n",
    "\n",
    "$$\n",
    "\\begin{aligned}\n",
    "\tU & =\\max_{\\{C_{t},\\color{red}H_{t}\\color{white}\\}_{t=0}^{\\infty}}\\sum_{t=0}^{\\infty}\\beta^{t}\\left(\\frac{C_{t}^{1-\\sigma}}{1-\\sigma}\\color{red}+\\frac{H_{t}^{1-\\sigma}}{1-\\sigma}\\color{white}\\right),\\beta\\in(0,1),\\sigma>0\\\\\n",
    "\t& \\text{s.t.}\\\\\n",
    "\tA_{t}+C_t+\\color{red}q_tH_t\\color{black}& =(1+r_{t})A_{t-1}+w_{t}N_{t} + \\color{red}q_{t}H_{t-1}\\color{black}\n",
    "\\end{aligned}\n",
    "$$\n",
    "\n",
    "where the left hand side of the budget constraint is expenditures on saving, consumption and housing. The right hand side is what is carried over in savings from last period, labor income and the amount of housing held from the last period. "
   ]
  },
  {
   "cell_type": "markdown",
   "metadata": {},
   "source": [
    "**Firms:** Firms rent capital $K_{t-1}$ at the rental rate $r_{t}^{K}$\n",
    "and hires labor $L_{t}$ at the wage rate $w_{t}$.<br>\n",
    "Firms have access to the production function\n",
    "    \n",
    "$$\n",
    "\\begin{aligned}\n",
    "Y_{t} &= F(K_{t-1},L_{t}) \\\\ &=\\Gamma_t(\\alpha K_{t-1}^{-\\theta}+(1-\\alpha)L_{t}^{-\\theta})^{\\frac{1}{-\\theta}},\\,\\,\\,\\theta>-1,\\alpha\\in(0,1),\\Gamma_t>0\n",
    "\\end{aligned}\n",
    "$$\n",
    "\n",
    "Profits are\n",
    "\n",
    "$$\n",
    "\\begin{aligned}\n",
    "\\Pi_{t}=Y_{t}-w_{t}L_{t}-r_{t}^{K}K_{t-1}\n",
    "\\end{aligned}\n",
    "$$"
   ]
  },
  {
   "cell_type": "markdown",
   "metadata": {},
   "source": [
    "**Equilibrium:** The following conditions will be satisfied in equilibrium\n",
    "\n",
    "1. Households maximize utility\n",
    "2. Firms maximize profits\n",
    "3. Labor market clear: $L_{t}=N_{t}=1$\n",
    "4. Goods market clear: $Y_{t}=C_{t}+I_{t}$\n",
    "5. <span style=\"color:red\"> Housing market clear:</span>. $\\color{red} \\bar{H}=H_t$\n",
    "6. Asset market clear: $A_{t}=K_{t}$ and $r_{t}=r_{t}^{k}-\\delta$\n",
    "7. Capital follows its law of motion: $K_{t}=(1-\\delta)K_{t-1}+I_{t}$"
   ]
  },
  {
   "cell_type": "markdown",
   "metadata": {},
   "source": [
    "**Solution**: We can summarize the model in the non-linear equation system\n",
    "\n",
    "$$\n",
    "\\begin{aligned}\n",
    "\\boldsymbol{H}(\\boldsymbol{K},\\boldsymbol{C},\\color{red}\\boldsymbol{H}\\color{white},K_{-1})=\\left[\\begin{array}{c}\n",
    "H_{0}\\\\\n",
    "H_{1}\\\\\n",
    "\\begin{array}{c}\n",
    "\\vdots\\end{array}\n",
    "\\end{array}\\right]=\\left[\\begin{array}{c}\n",
    "0\\\\\n",
    "0\\\\\n",
    "\\begin{array}{c}\n",
    "\\vdots\\end{array}\n",
    "\\end{array}\\right]\n",
    "\\end{aligned}\n",
    "$$\n",
    "\n",
    "where $\\boldsymbol{K} = [K_0,K_1\\dots]$, $\\boldsymbol{C} = [C_0,C_1\\dots]$,  $\\color{red}\\boldsymbol{H} = [H_0,H_1\\dots]$ and\n",
    "\n",
    "$$\n",
    "\\begin{aligned}\n",
    "H_{t}\n",
    "=\\left[\\begin{array}{c}\n",
    "C_{t}^{-\\sigma}-\\beta(1+F_{K}(K_{t},1))C_{t+1}^{-\\sigma}\\\\\n",
    "K_{t}-[(1-\\delta)K_{t-1} + F(K_{t-1},1)-C_{t}] \\\\\n",
    "\\color{red} \\bar{H}^{-\\sigma} + \\beta C_{t+1}^{-\\sigma}q_{t+1} - C_t^{-\\sigma}q_t\n",
    "\\end{array}\\right],\n",
    "\\end{aligned}\n",
    "$$\n",
    "\n",
    "where the last equation is derived by combining the FOC for housing demand with the assumption of fixed housing supply."
   ]
  },
  {
   "cell_type": "code",
   "execution_count": 29,
   "metadata": {},
   "outputs": [
    {
     "name": "stdout",
     "output_type": "stream",
     "text": [
      "initializing the model:\n",
      "calling .setup()\n",
      "calling .allocate()\n",
      "K_ss = 4.00\n",
      "Y_ss = 2.00\n",
      "C_ss = 1.80\n",
      "Gamma = 0.15\n",
      "r_ss = 0.10\n",
      "w_ss = 1.40\n",
      "rk_ss = 0.15\n"
     ]
    }
   ],
   "source": [
    "model = modelproject.RamseyModelClass1()\n",
    "model.find_steady_state(KY_ss=(4.0,2))"
   ]
  },
  {
   "cell_type": "markdown",
   "metadata": {},
   "source": [
    "## Analytical solution"
   ]
  },
  {
   "cell_type": "markdown",
   "metadata": {},
   "source": [
    "If your model allows for an analytical solution, you should provide here.\n",
    "\n",
    "You may use Sympy for this. Then you can characterize the solution as a function of a parameter of the model.\n",
    "\n",
    "To characterize the solution, first derive a steady state equation as a function of a parameter using Sympy.solve and then turn it into a python function by Sympy.lambdify. See the lecture notes for details. "
   ]
  },
  {
   "cell_type": "markdown",
   "metadata": {},
   "source": [
    "## Numerical solution"
   ]
  },
  {
   "cell_type": "markdown",
   "metadata": {},
   "source": [
    "You can always solve a model numerically. \n",
    "\n",
    "Define first the set of parameters you need. \n",
    "\n",
    "Then choose one of the optimization algorithms that we have gone through in the lectures based on what you think is most fitting for your model.\n",
    "\n",
    "Are there any problems with convergence? Does the model converge for all starting values? Make a lot of testing to figure these things out. "
   ]
  },
  {
   "cell_type": "markdown",
   "metadata": {},
   "source": [
    "# Further analysis"
   ]
  },
  {
   "cell_type": "markdown",
   "metadata": {},
   "source": [
    "Make detailed vizualizations of how your model changes with parameter values. \n",
    "\n",
    "Try to make an extension of the model. "
   ]
  },
  {
   "cell_type": "markdown",
   "metadata": {},
   "source": [
    "# Conclusion"
   ]
  },
  {
   "cell_type": "markdown",
   "metadata": {},
   "source": [
    "Add concise conclusion. "
   ]
  }
 ],
 "metadata": {
  "kernelspec": {
   "display_name": "base",
   "language": "python",
   "name": "python3"
  },
  "language_info": {
   "codemirror_mode": {
    "name": "ipython",
    "version": 3
   },
   "file_extension": ".py",
   "mimetype": "text/x-python",
   "name": "python",
   "nbconvert_exporter": "python",
   "pygments_lexer": "ipython3",
   "version": "3.11.8"
  },
  "toc-autonumbering": true,
  "vscode": {
   "interpreter": {
    "hash": "47ef90cdf3004d3f859f1fb202523c65c07ba7c22eefd261b181f4744e2d0403"
   }
  }
 },
 "nbformat": 4,
 "nbformat_minor": 4
}
