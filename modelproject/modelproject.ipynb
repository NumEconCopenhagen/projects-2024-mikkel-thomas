{
 "cells": [
  {
   "cell_type": "markdown",
   "metadata": {},
   "source": [
    "# Ramsey model with housing and a government sector"
   ]
  },
  {
   "attachments": {},
   "cell_type": "markdown",
   "metadata": {},
   "source": [
    "> **Note the following:** \n",
    "> 1. This is *not* meant to be an example of an actual **model analysis project**, just an example of how to structure such a project.\n",
    "> 1. Remember the general advice on structuring and commenting your code\n",
    "> 1. The `modelproject.py` file includes a function which could be used multiple times in this notebook."
   ]
  },
  {
   "cell_type": "markdown",
   "metadata": {},
   "source": [
    "Imports and set magics:"
   ]
  },
  {
   "cell_type": "code",
   "execution_count": 7,
   "metadata": {},
   "outputs": [
    {
     "name": "stdout",
     "output_type": "stream",
     "text": [
      "The autoreload extension is already loaded. To reload it, use:\n",
      "  %reload_ext autoreload\n"
     ]
    }
   ],
   "source": [
    "import numpy as np\n",
    "from scipy import optimize\n",
    "import sympy as sm\n",
    "import matplotlib.pyplot as plt\n",
    "plt.rcParams.update({\"axes.grid\":True,\"grid.color\":\"black\",\"grid.alpha\":\"0.25\",\"grid.linestyle\":\"--\"})\n",
    "plt.rcParams.update({'font.size': 14})\n",
    "\n",
    "# autoreload modules when code is run\n",
    "%load_ext autoreload\n",
    "%autoreload 2\n",
    "\n",
    "# local modules\n",
    "import modelproject\n",
    "import ramsey_thje"
   ]
  },
  {
   "cell_type": "markdown",
   "metadata": {},
   "source": [
    "# Model description"
   ]
  },
  {
   "cell_type": "markdown",
   "metadata": {},
   "source": [
    "In this model project, we extend the Ramsey model to include a housing market. In the first iteration, we solve the model assuming that housing supply is in fixed supply and that the housing stock does not depreciate over time. Most of the model is as described in the lecture notebook on the Ramsey model. Our changes to the mode are marked in <span style=\"color:red\"> *red*</span>."
   ]
  },
  {
   "cell_type": "markdown",
   "metadata": {},
   "source": [
    "**Time:** Discrete and indexed by $t\\in\\{0,1,\\dots\\}$."
   ]
  },
  {
   "cell_type": "markdown",
   "metadata": {},
   "source": [
    "**Demographics:** Single infinitely-lived household."
   ]
  },
  {
   "cell_type": "markdown",
   "metadata": {},
   "source": [
    "**Household:** Households choose non-durable consumption, $C_t$ and durable housing $H_t$ such as to maximize discount lifetime utility. Labor is supplied exogenously, $N_{t}=1$, and earns a wage $w_{t}$. The return on saving is $r_{t+1}$. Utility is CRRA and given by: \n",
    "\n",
    "$$\n",
    "\\begin{aligned}\n",
    "\tU & =\\max_{\\{C_{t},\\color{red}H_{t}, A_t\\color{black}\\}_{t=0}^{\\infty}}\\sum_{t=0}^{\\infty}\\beta^{t}\\left(\\frac{C_{t}^{1-\\sigma}}{1-\\sigma}\\color{red}+\\upsilon\\frac{H_{t}^{1-\\sigma_h}}{1-\\sigma_h}\\color{black}\\right),\\beta\\in(0,1),\\sigma>0\\\\\n",
    "\t& \\text{s.t.}\\\\\n",
    "\tA_{t}+C_t+\\color{red}q_tH_t\\color{black}& =(1+r_{t})A_{t-1}+w_{t}N_{t} + \\color{red}(q_{t}-\\tau^H_t)H_{t-1}\\color{black}\n",
    "\\end{aligned}\n",
    "$$\n",
    "\n",
    "where the left hand side of the budget constraint is expenditures on saving, consumption and housing. The right hand side is what is carried over in savings from last period, labor income and the amount of housing held from the last period. $\\tau^H_t$ is a lump-sum tax paid per unit of housing."
   ]
  },
  {
   "cell_type": "markdown",
   "metadata": {},
   "source": [
    "**Firms:** Firms rent capital $K_{t-1}$ at the rental rate $r_{t}^{K}$\n",
    "and hires labor $L_{t}$ at the wage rate $w_{t}$.<br>\n",
    "Firms have access to the production function\n",
    "    \n",
    "$$\n",
    "\\begin{aligned}\n",
    "Y_{t} &= F(K_{t-1},L_{t}) \\\\ &=\\Gamma_t(\\alpha K_{t-1}^{-\\theta}+(1-\\alpha)L_{t}^{-\\theta})^{\\frac{1}{-\\theta}},\\,\\,\\,\\theta>-1,\\alpha\\in(0,1),\\Gamma_t>0\n",
    "\\end{aligned}\n",
    "$$\n",
    "\n",
    "Profits are\n",
    "\n",
    "$$\n",
    "\\begin{aligned}\n",
    "\\Pi_{t}=Y_{t}-w_{t}L_{t}-r_{t}^{K}K_{t-1}\n",
    "\\end{aligned}\n",
    "$$"
   ]
  },
  {
   "cell_type": "markdown",
   "metadata": {},
   "source": [
    "**Government**: To keep things very simple, we assume that the government is not allowed to borrow nor save, and that the budget will always be balanced. In this case, government consumption will be given by: \n",
    "\n",
    "$$\n",
    "G_t = \\tau^H_t \\bar{H},\n",
    "$$\n",
    "where we use the fact that the housing stock is fixed over time."
   ]
  },
  {
   "cell_type": "markdown",
   "metadata": {},
   "source": [
    "**Equilibrium:** The following conditions will be satisfied in equilibrium\n",
    "\n",
    "1. Households maximize utility\n",
    "2. Firms maximize profits\n",
    "3. Labor market clear: $L_{t}=N_{t}=1$\n",
    "4. Goods market clear: $Y_{t}=C_{t}+I_{t}$\n",
    "5. <span style=\"color:red\"> Housing market clear:</span>. $\\color{red} \\bar{H}=H_t$\n",
    "6. Asset market clear: $A_{t}=K_{t}$ and $r_{t}=r_{t}^{k}-\\delta$\n",
    "7. Capital follows its law of motion: $K_{t}=(1-\\delta)K_{t-1}+I_{t}$"
   ]
  },
  {
   "cell_type": "markdown",
   "metadata": {},
   "source": [
    "**Solution**: We can summarize the model in the non-linear equation system\n",
    "\n",
    "$$\n",
    "\\begin{aligned}\n",
    "\\boldsymbol{\\Psi}(\\boldsymbol{K},\\boldsymbol{C}, \\color{red} \\boldsymbol{q}\\color{black},K_{-1})=\\left[\\begin{array}{c}\n",
    "\\Psi_{0}\\\\\n",
    "\\Psi_{1}\\\\\n",
    "\\begin{array}{c}\n",
    "\\vdots\\end{array}\n",
    "\\end{array}\\right]=\\left[\\begin{array}{c}\n",
    "0\\\\\n",
    "0\\\\\n",
    "\\begin{array}{c}\n",
    "\\vdots\\end{array}\n",
    "\\end{array}\\right]\n",
    "\\end{aligned}\n",
    "$$\n",
    "\n",
    "where $\\boldsymbol{K} = [K_0,K_1\\dots]$, $\\boldsymbol{C} = [C_0,C_1\\dots]$,  $\\color{red}\\boldsymbol{q} = [q_0,q_1\\dots]$ and\n",
    "\n",
    "$$\n",
    "\\begin{aligned}\n",
    "\\Psi_{t}\n",
    "=\\left[\\begin{array}{c}\n",
    "C_{t}^{-\\sigma}-\\beta(1+F_{K}(K_{t},1))C_{t+1}^{-\\sigma}\\\\\n",
    "K_{t}-[(1-\\delta)K_{t-1} + F(K_{t-1},1)-C_{t}] \\\\\n",
    "\\color{red} \\bar{H}^{-\\sigma_h} + \\beta C_{t+1}^{-\\sigma}q_{t+1} - C_t^{-\\sigma}q_t\n",
    "\\end{array}\\right],\n",
    "\\end{aligned}\n",
    "$$\n",
    "\n",
    "where the last equation is derived by combining the FOC for housing demand with the assumption of fixed housing supply."
   ]
  },
  {
   "cell_type": "code",
   "execution_count": 21,
   "metadata": {},
   "outputs": [
    {
     "name": "stdout",
     "output_type": "stream",
     "text": [
      "initializing the model:\n",
      "calling .setup()\n",
      "calling .allocate()\n",
      "K_ss = 4.00\n",
      "Y_ss = 2.00\n",
      "C_ss = 1.80\n",
      "H_ss = 1.00\n",
      "Gamma = 0.15\n",
      "r_ss = 0.10\n",
      "w_ss = 1.40\n",
      "rk_ss = 0.15\n"
     ]
    }
   ],
   "source": [
    "model = modelproject.RamseyModelClass1()\n",
    "model.find_steady_state(KY_ss=(4.0,2))"
   ]
  },
  {
   "cell_type": "markdown",
   "metadata": {},
   "source": [
    "## Analytical solution (steady state)"
   ]
  },
  {
   "cell_type": "markdown",
   "metadata": {},
   "source": [
    "In addition to the code in the lectures, we have to solve for the steady state level of housing prices in the economy. To do this, we use our Euler equation for the housing market and the fact that in steady state $C_{t+1}=C_{t}=C^{ss}$. Using this, we can write: \n",
    "\n",
    "$$\n",
    "q^{ss} = \\frac{1}{1-\\beta}\\frac{\\bar{H}^{-\\sigma_h}}{(C^{ss})^{-\\sigma}}\n",
    "$$"
   ]
  },
  {
   "cell_type": "markdown",
   "metadata": {},
   "source": [
    "## Numerical solution"
   ]
  },
  {
   "cell_type": "markdown",
   "metadata": {},
   "source": [
    "You can always solve a model numerically. \n",
    "\n",
    "Define first the set of parameters you need. \n",
    "\n",
    "Then choose one of the optimization algorithms that we have gone through in the lectures based on what you think is most fitting for your model.\n",
    "\n",
    "Are there any problems with convergence? Does the model converge for all starting values? Make a lot of testing to figure these things out. "
   ]
  },
  {
   "cell_type": "markdown",
   "metadata": {},
   "source": [
    "**Initializing the model and creating an instance of class**:"
   ]
  },
  {
   "cell_type": "code",
   "execution_count": 2,
   "metadata": {},
   "outputs": [
    {
     "name": "stdout",
     "output_type": "stream",
     "text": [
      "initializing the model:\n",
      "calling .setup()\n",
      "calling .allocate()\n"
     ]
    }
   ],
   "source": [
    "model = ramsey_thje.RamseyModelClass()\n",
    "par = model.par\n",
    "ss = model.ss\n",
    "path = model.path"
   ]
  },
  {
   "cell_type": "markdown",
   "metadata": {},
   "source": [
    "**Finding the steady state of the model**:"
   ]
  },
  {
   "cell_type": "code",
   "execution_count": 3,
   "metadata": {},
   "outputs": [
    {
     "name": "stdout",
     "output_type": "stream",
     "text": [
      "Y_ss = 1.0000\n",
      "C_ss = 0.8000\n",
      "q_ss = 26.2400\n",
      "K_ss/Y_ss = 4.0000\n",
      "rk_ss = 0.0750\n",
      "r_ss = 0.0250\n",
      "w_ss = 0.7000\n",
      "Gamma = 0.6598\n",
      "beta = 0.9756\n"
     ]
    }
   ],
   "source": [
    "model.find_steady_state(KY_ss=4.0)"
   ]
  },
  {
   "cell_type": "markdown",
   "metadata": {},
   "source": [
    "**Checking that there are no errors in steady state**:"
   ]
  },
  {
   "cell_type": "code",
   "execution_count": 4,
   "metadata": {},
   "outputs": [],
   "source": [
    "# a. set initial value\n",
    "par.K_lag_ini = ss.K\n",
    "\n",
    "# b. set path\n",
    "path.Gamma[:] = ss.Gamma\n",
    "path.C[:] = ss.C\n",
    "path.K[:] = ss.K\n",
    "path.q[:] = ss.q\n",
    "\n",
    "# c. check errors\n",
    "errors_ss = model.evaluate_path_errors()\n",
    "assert np.allclose(errors_ss,0.0)"
   ]
  },
  {
   "cell_type": "markdown",
   "metadata": {},
   "source": [
    "**Solving the model:**"
   ]
  },
  {
   "cell_type": "code",
   "execution_count": 6,
   "metadata": {},
   "outputs": [
    {
     "name": "stdout",
     "output_type": "stream",
     "text": [
      " it =   0 -> max. abs. error =   2.08774760\n",
      " it =   1 -> max. abs. error =   0.47429379\n",
      " it =   2 -> max. abs. error =   0.04788728\n",
      " it =   3 -> max. abs. error =   0.19495154\n",
      " it =   4 -> max. abs. error =   0.22027630\n",
      " it =   5 -> max. abs. error =   0.04719365\n",
      " it =   6 -> max. abs. error =   0.10063598\n",
      " it =   7 -> max. abs. error =   0.01021297\n",
      " it =   8 -> max. abs. error =   0.00664795\n",
      " it =   9 -> max. abs. error =   0.00063863\n",
      " it =  10 -> max. abs. error =   0.00037267\n",
      " it =  11 -> max. abs. error =   0.00005978\n",
      " it =  12 -> max. abs. error =   0.00001732\n",
      " it =  13 -> max. abs. error =   0.00000604\n",
      " it =  14 -> max. abs. error =   0.00000097\n",
      " it =  15 -> max. abs. error =   0.00000045\n",
      " it =  16 -> max. abs. error =   0.00000005\n",
      " it =  17 -> max. abs. error =   0.00000002\n",
      " it =  18 -> max. abs. error =   0.00000000\n"
     ]
    }
   ],
   "source": [
    "model.calculate_jacobian()\n",
    "par.K_lag_ini = 0.50*ss.K # start away from steady state\n",
    "model.solve() # find transition path"
   ]
  },
  {
   "cell_type": "code",
   "execution_count": 11,
   "metadata": {},
   "outputs": [
    {
     "data": {
      "image/png": "[encoded data removed]",
      "text/plain": [
       "<Figure size 864x576 with 2 Axes>"
      ]
     },
     "metadata": {
      "needs_background": "light"
     },
     "output_type": "display_data"
    }
   ],
   "source": [
    "fig = plt.figure(figsize=(12,12/1.5))\n",
    "\n",
    "ax = fig.add_subplot(1,2,1)\n",
    "ax.plot(path.K_lag,label=r'$K_{t-1}$')\n",
    "ax.legend(frameon=True)\n",
    "ax.set_title('Capital convergence')\n",
    "fig.tight_layout()\n",
    "\n",
    "ax2 = fig.add_subplot(1,2,2)\n",
    "ax2.plot(path.q,label=r'$q_{t}$')\n",
    "ax2.legend(frameon=True)\n",
    "ax2.set_title('Housing price convergence')\n",
    "fig.tight_layout()"
   ]
  },
  {
   "cell_type": "markdown",
   "metadata": {},
   "source": [
    "# Further analysis"
   ]
  },
  {
   "cell_type": "markdown",
   "metadata": {},
   "source": [
    "Make detailed vizualizations of how your model changes with parameter values. \n",
    "\n",
    "Try to make an extension of the model. "
   ]
  },
  {
   "cell_type": "markdown",
   "metadata": {},
   "source": [
    "# Conclusion"
   ]
  },
  {
   "cell_type": "markdown",
   "metadata": {},
   "source": [
    "Add concise conclusion. "
   ]
  }
 ],
 "metadata": {
  "kernelspec": {
   "display_name": "base",
   "language": "python",
   "name": "python3"
  },
  "language_info": {
   "codemirror_mode": {
    "name": "ipython",
    "version": 3
   },
   "file_extension": ".py",
   "mimetype": "text/x-python",
   "name": "python",
   "nbconvert_exporter": "python",
   "pygments_lexer": "ipython3",
   "version": "3.9.7"
  },
  "toc-autonumbering": true,
  "vscode": {
   "interpreter": {
    "hash": "47ef90cdf3004d3f859f1fb202523c65c07ba7c22eefd261b181f4744e2d0403"
   }
  }
 },
 "nbformat": 4,
 "nbformat_minor": 4
}
